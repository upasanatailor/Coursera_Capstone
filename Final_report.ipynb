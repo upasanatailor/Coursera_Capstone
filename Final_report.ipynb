{
 "cells": [
  {
   "cell_type": "markdown",
   "metadata": {},
   "source": [
    "## 1. Introduction to Business Problem \n",
    "#### Background\n",
    "One of my client want to open a restaurant in a big city \"Toronto\". He has 14 Fried Chicken Restaurants in big cities of Europe like Paris, Berlin, Germany, Amsterdam etc. And now, he wants to expand his business in other countries. He has a particular interest in Canada. So, he wants to open a new restaurant in Toronto.\n",
    "\n",
    "### Business Problem\n",
    "In this project we will try to find an optimal location for a new Fried Chicken Restaurant in Toronto, Canada. Since there are lots of restaurants in Toronto, we will try to detect locations that are not already so crowded with venues, especially restaurants. By the way, the place should not be too secluded. We are particularly interested in a potential neighborhood with no Fried Chicken Restaurant in vicinity. We would also prefer locations as close to the city center as possible to attract more customers, assuming that the first two conditions are met.\n",
    "\n",
    "We will use some data science and machine learning techniques to generate a few most promissing neighborhoods based on these criteria. Advantages of each area will then be clearly expressed so that best possible final location can be chosen by my client.\n",
    "\n",
    "### About Toronto\n",
    "Toronto is Canada’s largest city and a world leader in such areas as business, finance, technology, entertainment and culture. Its large population of immigrants from all over the globe has also made Toronto one of the most multicultural cities in the world. So Toronto has full potential but also is a very challenging district to open a business because of high competition.\n",
    "\n",
    "### Target Audience\n",
    "Specifically, this report will be targeted to my client who wants to find the optimal location to open a new Fried Chicken Joint in Toronto. But the other stakeholders interested in the same kind of opportunity can also benefit from it.\n",
    "\n",
    "### 2. Data Acquisition \n",
    "In order to segment the neighborhoods and explore them, we will essentially need a dataset that contains the boroughs and the neighborhoods that exist in each borough as well as the latitude and longitude coordinates of each neighborhood. So we will scrape the data that contain neighborhoods names and their postal code from the following Wikipedia page: 'https://en.wikipedia.org/wiki/List_of_postal_codes_of_Canada:_M'\n",
    "Then, we will merge it with the data that contain all the geographical coordinates of the neighborhoods thanks to the following csv file: “canada_geo.csv' http://cocl.us/Geospatial_data”\n",
    "Finally, to get the locations(latitude and longitude) and other informations about various venues in Toronto, we will use Foursquare’s API.\n",
    "\n",
    "\n",
    "## Libraries Imported:-\n",
    "1.Numpy\n",
    "2.Pandas\n",
    "3.Geocoder\n",
    "4.Nominatim\n",
    "5.matplotlib\n",
    "6.KMeans\n",
    "7.BeautifulSoup\n",
    "8.folium"
   ]
  },
  {
   "cell_type": "markdown",
   "metadata": {},
   "source": [
    "## 3. Methodology \n",
    "We will try to find the possible locations that have normal restaurant and other types of venues density in addition to that they should don't have Fried Chicken Joint.\n",
    "\n",
    "In the first step, we have collected the required data: The Neighborhoods and their locations and also the venues in each of these neighborhoods to see density.\n",
    "\n",
    "In the second step in our analysis, we will look at 'venues and restaurant density' across different areas of Toronto - we will use maps to identify a few promising areas close to center with moderate density of restaurants, neither too much nor too little.\n",
    "\n",
    "In the third and final step, we will focus on the most promising areas and within those create clusters of locations (using k-means clustering) that meet some basic requirements established in discussion with entrepreneur."
   ]
  },
  {
   "cell_type": "markdown",
   "metadata": {},
   "source": [
    "## 4. Analysis:¶\n",
    "Like we decide at the beginning of this analysis, we want to find the neighborhoods that don't have too many venues because it may be risky for our new restaurant. In another aspect, we don't want to open it in a neighborhood that don't have much potential. So finally, after discussing, we will focus on the neighborhoods that have more than 10 and less than 15 venues 500m near the center of the neighborhood."
   ]
  },
  {
   "cell_type": "markdown",
   "metadata": {},
   "source": [
    "## 5. Results and Discussion \n",
    "Cluster 1 : Most of the neighborhoods fall into this cluster. There are mostly business areas with coffee shops, pizza places, restaurants, bar, etc.. There are also social activity venues. Some of the neighborhoods are close to the University of Toronto. So they are at the center of Toronto. So it means high cost high gain for a new business. Some of the neighborhoods are far away from the center.\n",
    "Cluster 2 : 40% of neighborhoods are in this cluster. There are mostly business areas with cafe, restaurants, bar, etc.. The neighborhoods are a little bit far from the center of Toronto. So it means high cost, high gain for a new business\n",
    "\n",
    "Cluster 3 : There are generally restaurants, coffee shops, etc. The neighborhoods are near the center of Toronto.\n",
    "\n",
    "## 6. Conclusion \n",
    "The purpose of this project was to identify Toronto areas close to center with normal number of restaurants and venues in order to aid client in narrowing down the search for optimal location for a new Fried Chicken Restaurant. By seeing the density of restaurants and venues from Foursquare data we have identified the borouhgs that don't have a Fried Chicken Restaurant and also have a normal density of venues and restaurants.\n",
    "\n",
    "The final decission on optimal restaurant location will be made by client based on specific characteristics of neighborhoods and locations in every recommended zone, taking into consideration additional factors like attractiveness of each location (proximity to park or water), levels of noise / proximity to major roads, real estate availability, prices, social and economic dynamics of every neighborhood, etc."
   ]
  }
 ],
 "metadata": {
  "kernelspec": {
   "display_name": "Python 3",
   "language": "python",
   "name": "python3"
  },
  "language_info": {
   "codemirror_mode": {
    "name": "ipython",
    "version": 3
   },
   "file_extension": ".py",
   "mimetype": "text/x-python",
   "name": "python",
   "nbconvert_exporter": "python",
   "pygments_lexer": "ipython3",
   "version": "3.8.5"
  }
 },
 "nbformat": 4,
 "nbformat_minor": 4
}
